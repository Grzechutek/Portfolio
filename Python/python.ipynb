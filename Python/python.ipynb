{
 "cells": [
  {
   "cell_type": "code",
   "execution_count": 232,
   "metadata": {},
   "outputs": [],
   "source": [
    "#installation of pacakages \n",
    "\n",
    "import pandas as pd\n",
    "import matplotlib.pyplot as plt\n",
    "import seaborn as sns\n",
    "from pathlib import Path\n",
    "import numpy as np\n"
   ]
  },
  {
   "cell_type": "markdown",
   "metadata": {},
   "source": [
    "# Opening xlsx faile \n",
    "\n",
    "# I am using pathlib to keep my folders clean. I decied to segragate files by type. "
   ]
  },
  {
   "cell_type": "code",
   "execution_count": 259,
   "metadata": {},
   "outputs": [],
   "source": [
    "project_root = Path.cwd().parent\n",
    "data= project_root / \"data\" \n",
    "Path(data).mkdir(parents=True, exist_ok=True)\n",
    "project_root\n",
    "input_file_name=data/\"autoscout24-germany-dataset-task.xlsx\""
   ]
  },
  {
   "cell_type": "code",
   "execution_count": 260,
   "metadata": {},
   "outputs": [
    {
     "data": {
      "text/html": [
       "<div>\n",
       "<style scoped>\n",
       "    .dataframe tbody tr th:only-of-type {\n",
       "        vertical-align: middle;\n",
       "    }\n",
       "\n",
       "    .dataframe tbody tr th {\n",
       "        vertical-align: top;\n",
       "    }\n",
       "\n",
       "    .dataframe thead th {\n",
       "        text-align: right;\n",
       "    }\n",
       "</style>\n",
       "<table border=\"1\" class=\"dataframe\">\n",
       "  <thead>\n",
       "    <tr style=\"text-align: right;\">\n",
       "      <th></th>\n",
       "      <th>mileage;make;model;fuel;gear;offerType;price;hp;year</th>\n",
       "    </tr>\n",
       "  </thead>\n",
       "  <tbody>\n",
       "    <tr>\n",
       "      <th>0</th>\n",
       "      <td>NaN</td>\n",
       "    </tr>\n",
       "    <tr>\n",
       "      <th>1</th>\n",
       "      <td>235000;BMW;316;Diesel;Manual;Used;6800;116;2011</td>\n",
       "    </tr>\n",
       "    <tr>\n",
       "      <th>2</th>\n",
       "      <td>NaN</td>\n",
       "    </tr>\n",
       "    <tr>\n",
       "      <th>3</th>\n",
       "      <td>92800;Volkswagen;Golf;Gasoline;Manual;Used;687...</td>\n",
       "    </tr>\n",
       "    <tr>\n",
       "      <th>4</th>\n",
       "      <td>NaN</td>\n",
       "    </tr>\n",
       "    <tr>\n",
       "      <th>...</th>\n",
       "      <td>...</td>\n",
       "    </tr>\n",
       "    <tr>\n",
       "      <th>92805</th>\n",
       "      <td>99;Fiat;500;Electric/Gasoline;Manual;Pre-regis...</td>\n",
       "    </tr>\n",
       "    <tr>\n",
       "      <th>92806</th>\n",
       "      <td>NaN</td>\n",
       "    </tr>\n",
       "    <tr>\n",
       "      <th>92807</th>\n",
       "      <td>99;Fiat;500;Electric/Gasoline;Manual;Pre-regis...</td>\n",
       "    </tr>\n",
       "    <tr>\n",
       "      <th>92808</th>\n",
       "      <td>NaN</td>\n",
       "    </tr>\n",
       "    <tr>\n",
       "      <th>92809</th>\n",
       "      <td>99;Fiat;500;Electric/Gasoline;Manual;Pre-regis...</td>\n",
       "    </tr>\n",
       "  </tbody>\n",
       "</table>\n",
       "<p>92810 rows × 1 columns</p>\n",
       "</div>"
      ],
      "text/plain": [
       "      mileage;make;model;fuel;gear;offerType;price;hp;year\n",
       "0                                                    NaN  \n",
       "1        235000;BMW;316;Diesel;Manual;Used;6800;116;2011  \n",
       "2                                                    NaN  \n",
       "3      92800;Volkswagen;Golf;Gasoline;Manual;Used;687...  \n",
       "4                                                    NaN  \n",
       "...                                                  ...  \n",
       "92805  99;Fiat;500;Electric/Gasoline;Manual;Pre-regis...  \n",
       "92806                                                NaN  \n",
       "92807  99;Fiat;500;Electric/Gasoline;Manual;Pre-regis...  \n",
       "92808                                                NaN  \n",
       "92809  99;Fiat;500;Electric/Gasoline;Manual;Pre-regis...  \n",
       "\n",
       "[92810 rows x 1 columns]"
      ]
     },
     "execution_count": 260,
     "metadata": {},
     "output_type": "execute_result"
    }
   ],
   "source": [
    "df=pd.read_excel(input_file_name)\n",
    "df"
   ]
  },
  {
   "cell_type": "markdown",
   "metadata": {},
   "source": [
    "# Empty records need to be deleted. All values are in one column and they are separated by ';'. The data can be read correctly by exporting to a CSV."
   ]
  },
  {
   "cell_type": "code",
   "execution_count": 297,
   "metadata": {},
   "outputs": [],
   "source": [
    "df_cleaned = df.dropna(how='all')\n",
    "df_cleaned\n",
    "output_csv = data/ \"dane_auto.csv\"\n",
    "df_cleaned.to_csv(output_csv, index=False)\n"
   ]
  },
  {
   "cell_type": "markdown",
   "metadata": {},
   "source": [
    "Reading data with no empty rows."
   ]
  },
  {
   "cell_type": "code",
   "execution_count": 296,
   "metadata": {},
   "outputs": [
    {
     "data": {
      "text/html": [
       "<div>\n",
       "<style scoped>\n",
       "    .dataframe tbody tr th:only-of-type {\n",
       "        vertical-align: middle;\n",
       "    }\n",
       "\n",
       "    .dataframe tbody tr th {\n",
       "        vertical-align: top;\n",
       "    }\n",
       "\n",
       "    .dataframe thead th {\n",
       "        text-align: right;\n",
       "    }\n",
       "</style>\n",
       "<table border=\"1\" class=\"dataframe\">\n",
       "  <thead>\n",
       "    <tr style=\"text-align: right;\">\n",
       "      <th></th>\n",
       "      <th>mileage</th>\n",
       "      <th>make</th>\n",
       "      <th>model</th>\n",
       "      <th>fuel</th>\n",
       "      <th>gear</th>\n",
       "      <th>offerType</th>\n",
       "      <th>price</th>\n",
       "      <th>hp</th>\n",
       "      <th>year</th>\n",
       "    </tr>\n",
       "  </thead>\n",
       "  <tbody>\n",
       "    <tr>\n",
       "      <th>0</th>\n",
       "      <td>235000</td>\n",
       "      <td>BMW</td>\n",
       "      <td>316</td>\n",
       "      <td>Diesel</td>\n",
       "      <td>Manual</td>\n",
       "      <td>Used</td>\n",
       "      <td>6800</td>\n",
       "      <td>116.0</td>\n",
       "      <td>2011</td>\n",
       "    </tr>\n",
       "    <tr>\n",
       "      <th>1</th>\n",
       "      <td>92800</td>\n",
       "      <td>Volkswagen</td>\n",
       "      <td>Golf</td>\n",
       "      <td>Gasoline</td>\n",
       "      <td>Manual</td>\n",
       "      <td>Used</td>\n",
       "      <td>6877</td>\n",
       "      <td>122.0</td>\n",
       "      <td>2011</td>\n",
       "    </tr>\n",
       "    <tr>\n",
       "      <th>2</th>\n",
       "      <td>149300</td>\n",
       "      <td>SEAT</td>\n",
       "      <td>Exeo</td>\n",
       "      <td>Gasoline</td>\n",
       "      <td>Manual</td>\n",
       "      <td>Used</td>\n",
       "      <td>6900</td>\n",
       "      <td>160.0</td>\n",
       "      <td>2011</td>\n",
       "    </tr>\n",
       "    <tr>\n",
       "      <th>3</th>\n",
       "      <td>96200</td>\n",
       "      <td>Renault</td>\n",
       "      <td>Megane</td>\n",
       "      <td>Gasoline</td>\n",
       "      <td>Manual</td>\n",
       "      <td>Used</td>\n",
       "      <td>6950</td>\n",
       "      <td>110.0</td>\n",
       "      <td>2011</td>\n",
       "    </tr>\n",
       "    <tr>\n",
       "      <th>4</th>\n",
       "      <td>156000</td>\n",
       "      <td>Peugeot</td>\n",
       "      <td>308</td>\n",
       "      <td>Gasoline</td>\n",
       "      <td>Manual</td>\n",
       "      <td>Used</td>\n",
       "      <td>6950</td>\n",
       "      <td>156.0</td>\n",
       "      <td>2011</td>\n",
       "    </tr>\n",
       "    <tr>\n",
       "      <th>5</th>\n",
       "      <td>147000</td>\n",
       "      <td>Toyota</td>\n",
       "      <td>Auris</td>\n",
       "      <td>Electric/Gasoline</td>\n",
       "      <td>Automatic</td>\n",
       "      <td>Used</td>\n",
       "      <td>6950</td>\n",
       "      <td>99.0</td>\n",
       "      <td>2011</td>\n",
       "    </tr>\n",
       "    <tr>\n",
       "      <th>6</th>\n",
       "      <td>91894</td>\n",
       "      <td>Renault</td>\n",
       "      <td>Scenic</td>\n",
       "      <td>Diesel</td>\n",
       "      <td>Manual</td>\n",
       "      <td>Used</td>\n",
       "      <td>6970</td>\n",
       "      <td>131.0</td>\n",
       "      <td>2011</td>\n",
       "    </tr>\n",
       "    <tr>\n",
       "      <th>7</th>\n",
       "      <td>127500</td>\n",
       "      <td>Opel</td>\n",
       "      <td>Zafira</td>\n",
       "      <td>Gasoline</td>\n",
       "      <td>Manual</td>\n",
       "      <td>Used</td>\n",
       "      <td>6972</td>\n",
       "      <td>116.0</td>\n",
       "      <td>2011</td>\n",
       "    </tr>\n",
       "    <tr>\n",
       "      <th>8</th>\n",
       "      <td>115000</td>\n",
       "      <td>Mazda</td>\n",
       "      <td>3</td>\n",
       "      <td>Gasoline</td>\n",
       "      <td>Automatic</td>\n",
       "      <td>Used</td>\n",
       "      <td>6980</td>\n",
       "      <td>150.0</td>\n",
       "      <td>2011</td>\n",
       "    </tr>\n",
       "    <tr>\n",
       "      <th>9</th>\n",
       "      <td>104</td>\n",
       "      <td>Ford</td>\n",
       "      <td>Transit</td>\n",
       "      <td>Diesel</td>\n",
       "      <td>Manual</td>\n",
       "      <td>Used</td>\n",
       "      <td>6990</td>\n",
       "      <td>86.0</td>\n",
       "      <td>2011</td>\n",
       "    </tr>\n",
       "  </tbody>\n",
       "</table>\n",
       "</div>"
      ],
      "text/plain": [
       "   mileage        make    model               fuel       gear offerType  \\\n",
       "0   235000         BMW      316             Diesel     Manual      Used   \n",
       "1    92800  Volkswagen     Golf           Gasoline     Manual      Used   \n",
       "2   149300        SEAT     Exeo           Gasoline     Manual      Used   \n",
       "3    96200     Renault   Megane           Gasoline     Manual      Used   \n",
       "4   156000     Peugeot      308           Gasoline     Manual      Used   \n",
       "5   147000      Toyota    Auris  Electric/Gasoline  Automatic      Used   \n",
       "6    91894     Renault   Scenic             Diesel     Manual      Used   \n",
       "7   127500        Opel   Zafira           Gasoline     Manual      Used   \n",
       "8   115000       Mazda        3           Gasoline  Automatic      Used   \n",
       "9      104        Ford  Transit             Diesel     Manual      Used   \n",
       "\n",
       "   price     hp  year  \n",
       "0   6800  116.0  2011  \n",
       "1   6877  122.0  2011  \n",
       "2   6900  160.0  2011  \n",
       "3   6950  110.0  2011  \n",
       "4   6950  156.0  2011  \n",
       "5   6950   99.0  2011  \n",
       "6   6970  131.0  2011  \n",
       "7   6972  116.0  2011  \n",
       "8   6980  150.0  2011  \n",
       "9   6990   86.0  2011  "
      ]
     },
     "execution_count": 296,
     "metadata": {},
     "output_type": "execute_result"
    }
   ],
   "source": [
    "df=pd.read_csv(data/\"dane_auto.csv\",sep=';')\n",
    "df.head(10)\n"
   ]
  },
  {
   "cell_type": "markdown",
   "metadata": {},
   "source": [
    "Export to xlsx to mark down by color outliers and strange, uncorrect values."
   ]
  },
  {
   "cell_type": "code",
   "execution_count": 263,
   "metadata": {},
   "outputs": [],
   "source": [
    "output_xlsx = data/ \"dane_auto.xlsx\"\n",
    "df.to_excel(output_xlsx)"
   ]
  },
  {
   "cell_type": "markdown",
   "metadata": {},
   "source": [
    "# Second part of data cleaing, searching throug the columns to find and check unusual values. I want share with you my Python and Excel skills so this part will be permored in both of this programs."
   ]
  },
  {
   "cell_type": "code",
   "execution_count": 264,
   "metadata": {},
   "outputs": [
    {
     "name": "stdout",
     "output_type": "stream",
     "text": [
      "0\n",
      "0\n",
      "mileage      10\n",
      "make         10\n",
      "model         9\n",
      "fuel         10\n",
      "gear         10\n",
      "offerType    10\n",
      "price        10\n",
      "hp           10\n",
      "year         10\n",
      "dtype: int64\n"
     ]
    }
   ],
   "source": [
    "\n",
    "min_mileage=min(df[\"mileage\"])\n",
    "print(min_mileage)\n",
    "# 0 is unsual milage valuen for used cars.\n",
    "\n",
    "zero_mileage_used=df[(df[\"mileage\"]==0) & (df[\"offerType\"]==\"Used\")]\n",
    "print(min_mileage)\n",
    "print(zero_mileage_used.count())\n",
    "\n",
    "# Records included into zero_mileage_used shoudl be delated, or 0 in \"mileage\" shoudl be replaced with corect values. OfferType column also can be repaired by changing \"used\" to another category. \n",
    "# For changing any of mentiond values specfic knowlage is requaired. "
   ]
  },
  {
   "cell_type": "code",
   "execution_count": 265,
   "metadata": {},
   "outputs": [
    {
     "name": "stdout",
     "output_type": "stream",
     "text": [
      "False\n",
      "['BMW' 'Volkswagen' 'SEAT' 'Renault' 'Peugeot' 'Toyota' 'Opel' 'Mazda'\n",
      " 'Ford' 'Mercedes-Benz' 'Chevrolet' 'Audi' 'Fiat' 'Kia' 'Dacia' 'MINI'\n",
      " 'Hyundai' 'Skoda' 'Citroen' 'Infiniti' 'Suzuki' 'SsangYong' 'smart'\n",
      " 'Cupra' 'Volvo' 'Jaguar' 'Porsche' 'Nissan' 'Honda' 'Lada' 'Mitsubishi'\n",
      " 'Others' 'Lexus' 'Jeep' 'Maserati' 'Bentley' 'Land' 'Alfa' 'Subaru'\n",
      " 'Dodge' 'Microcar' 'Lamborghini' 'Baic' 'Tesla' 'Chrysler' '9ff'\n",
      " 'McLaren' 'Aston' 'Rolls-Royce' 'Alpine' 'Lancia' 'Abarth' 'DS'\n",
      " 'Daihatsu' 'Ligier' 'Ferrari' 'Caravans-Wohnm' 'Aixam' 'Piaggio' 'Zhidou'\n",
      " 'Morgan' 'Maybach' 'Tazzari' 'Trucks-Lkw' 'RAM' 'Iveco' 'DAF' 'Alpina'\n",
      " 'Polestar' 'Brilliance' 'FISKER' 'Cadillac' 'Trailer-AnhÃ¤nger' 'Isuzu'\n",
      " 'Corvette' 'DFSK' 'Estrima']\n",
      "<bound method DataFrame.count of        mileage    make     model      fuel       gear       offerType  price  \\\n",
      "365       3500  Others       NaN  Electric     Manual            Used   5500   \n",
      "2001      2900  Others       NaN  Electric  Automatic            Used   7900   \n",
      "9432        50  Others       NaN  Gasoline  Automatic            Used  14990   \n",
      "12019     1820  Others       NaN    Diesel        NaN            Used  15500   \n",
      "13030      800  Others       NaN    Others        NaN            Used   2450   \n",
      "17752      150  Others       NaN  Electric  Automatic  Employee's car   4490   \n",
      "18642        1  Others       NaN  Gasoline     Manual  Pre-registered  23990   \n",
      "24366        1  Others  Landwind  Gasoline     Manual            Used   1850   \n",
      "25810     1000  Others       NaN  Electric  Automatic            Used   3580   \n",
      "25857    31000  Others       NaN  Gasoline     Manual            Used   3850   \n",
      "25878     2000  Others       NaN    Others        NaN            Used  10999   \n",
      "26088     2000  Others       NaN    Others        NaN            Used  10999   \n",
      "34621       30  Others       NaN  Electric        NaN            Used   1950   \n",
      "36085   104816  Others       NaN  Gasoline     Manual            Used   5890   \n",
      "36089    66014  Others       NaN  Gasoline     Manual            Used   5950   \n",
      "40641    74734  Others       NaN       CNG     Manual            Used   7450   \n",
      "41703     2250  Others       NaN  Electric  Automatic            Used  10591   \n",
      "41706     1100  Others       NaN  Electric  Automatic            Used  11781   \n",
      "42111       20  Others       NaN  Electric        NaN            Used   4850   \n",
      "43263        0  Others       NaN  Electric  Automatic            Used   5999   \n",
      "43361       40  Others       NaN  Electric  Automatic            Used   9870   \n",
      "43610      700  Others       NaN  Electric        NaN            Used   6300   \n",
      "43612      300  Others       NaN  Electric  Automatic            Used   7000   \n",
      "46074        1  Others       NaN  Gasoline     Manual  Pre-registered  23990   \n",
      "46102        1  Others       NaN  Gasoline     Manual  Pre-registered  23990   \n",
      "\n",
      "          hp  year  \n",
      "365     38.0  2018  \n",
      "2001     5.0  2018  \n",
      "9432   111.0  2020  \n",
      "12019   18.0  2011  \n",
      "13030    1.0  2019  \n",
      "17752    NaN  2020  \n",
      "18642  150.0  2021  \n",
      "24366   97.0  2012  \n",
      "25810    5.0  2012  \n",
      "25857   79.0  2014  \n",
      "25878    1.0  2015  \n",
      "26088    1.0  2015  \n",
      "34621    7.0  2011  \n",
      "36085   75.0  2012  \n",
      "36089   75.0  2012  \n",
      "40641   68.0  2016  \n",
      "41703   52.0  2017  \n",
      "41706   52.0  2017  \n",
      "42111    NaN  2018  \n",
      "43263    3.0  2019  \n",
      "43361   52.0  2019  \n",
      "43610    5.0  2019  \n",
      "43612    5.0  2019  \n",
      "46074  150.0  2021  \n",
      "46102  150.0  2021  >\n"
     ]
    }
   ],
   "source": [
    "lack_in_make=df[\"make\"].isnull().any()\n",
    "print(lack_in_make)\n",
    "\n",
    "#there is no lacking values in this column\n",
    "\n",
    "unique_make=df[\"make\"].unique()\n",
    "print(unique_make)\n",
    "\n",
    "#Everything seems to be alright expect value Others \n",
    "\n",
    "others_make=df[df[\"make\"]==\"Others\"]\n",
    "print(others_make.count)\n",
    " \n",
    "# Is worth to consider if this is important to include in our analysis cars that have not assigned specfic maker?"
   ]
  },
  {
   "cell_type": "code",
   "execution_count": 266,
   "metadata": {},
   "outputs": [
    {
     "name": "stdout",
     "output_type": "stream",
     "text": [
      "['Diesel' 'Gasoline' 'Electric/Gasoline' '-/- (Fuel)' 'Electric'\n",
      " 'Electric/Diesel' 'CNG' 'LPG' 'Others' 'Hydrogen' 'Ethanol']\n"
     ]
    }
   ],
   "source": [
    "unique_fuel=df[\"fuel\"].unique()\n",
    "print(unique_fuel)\n",
    "\n",
    "# In my opinion it is important to check what means -/-(fuel). This might be kind of strange value, which should checked be in the documentation.\n"
   ]
  },
  {
   "cell_type": "code",
   "execution_count": 267,
   "metadata": {},
   "outputs": [
    {
     "name": "stdout",
     "output_type": "stream",
     "text": [
      "['Manual' 'Automatic' nan 'Semi-automatic']\n",
      "       mileage        make         model               fuel gear  \\\n",
      "243      93850     Renault  Grand Scenic             Diesel  NaN   \n",
      "347      52753        Lada         Vesta           Gasoline  NaN   \n",
      "612      46850      Suzuki          Alto           Gasoline  NaN   \n",
      "873     153500  Mitsubishi           ASX             Diesel  NaN   \n",
      "1333     38000     Renault           ZOE           Electric  NaN   \n",
      "...        ...         ...           ...                ...  ...   \n",
      "44540     5000       Volvo           NaN             Others  NaN   \n",
      "44908     1490     Renault        Megane  Electric/Gasoline  NaN   \n",
      "45605      250        Fiat     New Panda           Gasoline  NaN   \n",
      "46326       45         BMW           iX3           Electric  NaN   \n",
      "46335        7        Ford          Puma           Gasoline  NaN   \n",
      "\n",
      "            offerType  price     hp  year  \n",
      "243              Used   7990  110.0  2012  \n",
      "347              Used   8000  106.0  2017  \n",
      "612              Used   3999   68.0  2011  \n",
      "873              Used  10000  150.0  2014  \n",
      "1333             Used   8750   88.0  2016  \n",
      "...               ...    ...    ...   ...  \n",
      "44540            Used   2499    1.0  2020  \n",
      "44908   Demonstration  21980  158.0  2020  \n",
      "45605   Demonstration  12990   69.0  2021  \n",
      "46326            Used  58000  286.0  2021  \n",
      "46335  Pre-registered  22990  125.0  2021  \n",
      "\n",
      "[182 rows x 9 columns]\n",
      "mileage      182\n",
      "make         182\n",
      "model        167\n",
      "fuel         182\n",
      "gear           0\n",
      "offerType    182\n",
      "price        182\n",
      "hp           179\n",
      "year         182\n",
      "dtype: int64\n"
     ]
    }
   ],
   "source": [
    "unique_gear=df[\"gear\"].unique()\n",
    "print(unique_gear)\n",
    "\n",
    "nan_gear=df[df[\"gear\"].isnull()]\n",
    "print(nan_gear)\n",
    "print(nan_gear.count())\n",
    "# There is 182 of empty records in column.Resulotion here might be deleting records with missing value or looking for this values in another dataset "
   ]
  },
  {
   "cell_type": "code",
   "execution_count": 268,
   "metadata": {},
   "outputs": [
    {
     "name": "stdout",
     "output_type": "stream",
     "text": [
      "['Used' 'Demonstration' \"Employee's car\" 'Pre-registered' 'New']\n"
     ]
    }
   ],
   "source": [
    "unique_offerType=df[\"offerType\"].unique()\n",
    "print(unique_offerType)\n",
    "\n",
    "# This column looks fine, no empty records."
   ]
  },
  {
   "cell_type": "code",
   "execution_count": 269,
   "metadata": {},
   "outputs": [
    {
     "name": "stdout",
     "output_type": "stream",
     "text": [
      "       mileage        make   model      fuel       gear offerType  price  \\\n",
      "29258   182000     Hyundai     i10  Gasoline     Manual      Used  -3450   \n",
      "29340    25526        SEAT   Ateca    Diesel  Automatic      Used -21440   \n",
      "29341    97311  Volkswagen  Tiguan    Diesel     Manual      Used -21480   \n",
      "\n",
      "          hp  year  \n",
      "29258   69.0  2015  \n",
      "29340  116.0  2019  \n",
      "29341  150.0  2019  \n"
     ]
    }
   ],
   "source": [
    "\n",
    "avg_price=df['price'].mean()\n",
    "negative_prices=df[df['price']<0]\n",
    "print(negative_prices)\n",
    "\n",
    "# Price can't be below 0. Records with prices with below 0 shoudl be delated or we can look for correct price in another dataset.\n"
   ]
  },
  {
   "cell_type": "code",
   "execution_count": 270,
   "metadata": {},
   "outputs": [
    {
     "name": "stdout",
     "output_type": "stream",
     "text": [
      "1.0\n"
     ]
    },
    {
     "data": {
      "text/html": [
       "<div>\n",
       "<style scoped>\n",
       "    .dataframe tbody tr th:only-of-type {\n",
       "        vertical-align: middle;\n",
       "    }\n",
       "\n",
       "    .dataframe tbody tr th {\n",
       "        vertical-align: top;\n",
       "    }\n",
       "\n",
       "    .dataframe thead th {\n",
       "        text-align: right;\n",
       "    }\n",
       "</style>\n",
       "<table border=\"1\" class=\"dataframe\">\n",
       "  <thead>\n",
       "    <tr style=\"text-align: right;\">\n",
       "      <th></th>\n",
       "      <th>mileage</th>\n",
       "      <th>make</th>\n",
       "      <th>model</th>\n",
       "      <th>fuel</th>\n",
       "      <th>gear</th>\n",
       "      <th>offerType</th>\n",
       "      <th>price</th>\n",
       "      <th>hp</th>\n",
       "      <th>year</th>\n",
       "    </tr>\n",
       "  </thead>\n",
       "  <tbody>\n",
       "    <tr>\n",
       "      <th>9110</th>\n",
       "      <td>167000</td>\n",
       "      <td>Renault</td>\n",
       "      <td>Megane</td>\n",
       "      <td>Diesel</td>\n",
       "      <td>Manual</td>\n",
       "      <td>Used</td>\n",
       "      <td>5450</td>\n",
       "      <td>1.0</td>\n",
       "      <td>2012</td>\n",
       "    </tr>\n",
       "    <tr>\n",
       "      <th>13030</th>\n",
       "      <td>800</td>\n",
       "      <td>Others</td>\n",
       "      <td>NaN</td>\n",
       "      <td>Others</td>\n",
       "      <td>NaN</td>\n",
       "      <td>Used</td>\n",
       "      <td>2450</td>\n",
       "      <td>1.0</td>\n",
       "      <td>2019</td>\n",
       "    </tr>\n",
       "    <tr>\n",
       "      <th>25878</th>\n",
       "      <td>2000</td>\n",
       "      <td>Others</td>\n",
       "      <td>NaN</td>\n",
       "      <td>Others</td>\n",
       "      <td>NaN</td>\n",
       "      <td>Used</td>\n",
       "      <td>10999</td>\n",
       "      <td>1.0</td>\n",
       "      <td>2015</td>\n",
       "    </tr>\n",
       "    <tr>\n",
       "      <th>26088</th>\n",
       "      <td>2000</td>\n",
       "      <td>Others</td>\n",
       "      <td>NaN</td>\n",
       "      <td>Others</td>\n",
       "      <td>NaN</td>\n",
       "      <td>Used</td>\n",
       "      <td>10999</td>\n",
       "      <td>1.0</td>\n",
       "      <td>2015</td>\n",
       "    </tr>\n",
       "    <tr>\n",
       "      <th>28064</th>\n",
       "      <td>100</td>\n",
       "      <td>Volkswagen</td>\n",
       "      <td>NaN</td>\n",
       "      <td>Others</td>\n",
       "      <td>NaN</td>\n",
       "      <td>Demonstration</td>\n",
       "      <td>2600</td>\n",
       "      <td>1.0</td>\n",
       "      <td>2019</td>\n",
       "    </tr>\n",
       "    <tr>\n",
       "      <th>28065</th>\n",
       "      <td>100</td>\n",
       "      <td>Trailer-AnhÃ¤nger</td>\n",
       "      <td>NaN</td>\n",
       "      <td>Others</td>\n",
       "      <td>NaN</td>\n",
       "      <td>Used</td>\n",
       "      <td>2800</td>\n",
       "      <td>1.0</td>\n",
       "      <td>2019</td>\n",
       "    </tr>\n",
       "    <tr>\n",
       "      <th>36204</th>\n",
       "      <td>302000</td>\n",
       "      <td>Toyota</td>\n",
       "      <td>Prius+</td>\n",
       "      <td>Electric/Gasoline</td>\n",
       "      <td>NaN</td>\n",
       "      <td>Used</td>\n",
       "      <td>7985</td>\n",
       "      <td>1.0</td>\n",
       "      <td>2013</td>\n",
       "    </tr>\n",
       "    <tr>\n",
       "      <th>44072</th>\n",
       "      <td>1</td>\n",
       "      <td>Trailer-AnhÃ¤nger</td>\n",
       "      <td>NaN</td>\n",
       "      <td>Others</td>\n",
       "      <td>NaN</td>\n",
       "      <td>Used</td>\n",
       "      <td>2500</td>\n",
       "      <td>1.0</td>\n",
       "      <td>2019</td>\n",
       "    </tr>\n",
       "    <tr>\n",
       "      <th>44540</th>\n",
       "      <td>5000</td>\n",
       "      <td>Volvo</td>\n",
       "      <td>NaN</td>\n",
       "      <td>Others</td>\n",
       "      <td>NaN</td>\n",
       "      <td>Used</td>\n",
       "      <td>2499</td>\n",
       "      <td>1.0</td>\n",
       "      <td>2020</td>\n",
       "    </tr>\n",
       "  </tbody>\n",
       "</table>\n",
       "</div>"
      ],
      "text/plain": [
       "       mileage               make   model               fuel    gear  \\\n",
       "9110    167000            Renault  Megane             Diesel  Manual   \n",
       "13030      800             Others     NaN             Others     NaN   \n",
       "25878     2000             Others     NaN             Others     NaN   \n",
       "26088     2000             Others     NaN             Others     NaN   \n",
       "28064      100         Volkswagen     NaN             Others     NaN   \n",
       "28065      100  Trailer-AnhÃ¤nger     NaN             Others     NaN   \n",
       "36204   302000             Toyota  Prius+  Electric/Gasoline     NaN   \n",
       "44072        1  Trailer-AnhÃ¤nger     NaN             Others     NaN   \n",
       "44540     5000              Volvo     NaN             Others     NaN   \n",
       "\n",
       "           offerType  price   hp  year  \n",
       "9110            Used   5450  1.0  2012  \n",
       "13030           Used   2450  1.0  2019  \n",
       "25878           Used  10999  1.0  2015  \n",
       "26088           Used  10999  1.0  2015  \n",
       "28064  Demonstration   2600  1.0  2019  \n",
       "28065           Used   2800  1.0  2019  \n",
       "36204           Used   7985  1.0  2013  \n",
       "44072           Used   2500  1.0  2019  \n",
       "44540           Used   2499  1.0  2020  "
      ]
     },
     "execution_count": 270,
     "metadata": {},
     "output_type": "execute_result"
    }
   ],
   "source": [
    "min_hp=df[\"hp\"].min()\n",
    "print(min_hp)\n",
    "\n",
    "# 1 horse power seems strage to me. I was tryning to find information about minimum number of horse power in a car. Per chat gpt after 2011 car with lowest number of hp is Renoult Twizz with only 5,4hp.\n",
    "\n",
    "one_hp=df[df[\"hp\"]==1]\n",
    "one_hp\n",
    "#print(one_hp.count())\n",
    "\n",
    "# Strange low number of hp mostly corresponds with nan values in gear column, if they are not corresponding with NaN in gear, they are related to \"others\" in another column.In my opinion this records should be deleted."
   ]
  },
  {
   "cell_type": "code",
   "execution_count": 271,
   "metadata": {},
   "outputs": [
    {
     "name": "stdout",
     "output_type": "stream",
     "text": [
      "2011\n",
      "2032\n",
      "[2011 2012 2013 2014 2015 2016 2017 2018 2019 2020 2032 2021]\n",
      "     mileage     make   model               fuel       gear       offerType  \\\n",
      "194      100     Fiat   Panda           Gasoline     Manual  Pre-registered   \n",
      "195       15     Fiat   Panda  Electric/Gasoline     Manual  Pre-registered   \n",
      "196       20   Toyota    Aygo           Gasoline     Manual  Pre-registered   \n",
      "197       15     Fiat   Panda  Electric/Gasoline     Manual  Pre-registered   \n",
      "198       15     Fiat   Panda  Electric/Gasoline     Manual  Pre-registered   \n",
      "199       10   Toyota    Aygo           Gasoline     Manual  Pre-registered   \n",
      "587       10  Hyundai     i30           Gasoline  Automatic  Pre-registered   \n",
      "588        5  Hyundai  Tucson  Electric/Gasoline  Automatic  Pre-registered   \n",
      "\n",
      "     price     hp  year  \n",
      "194  10600   69.0  2032  \n",
      "195  10680   69.0  2032  \n",
      "196  10823   72.0  2032  \n",
      "197  10980   69.0  2032  \n",
      "198  10980   69.0  2032  \n",
      "199  10997   72.0  2032  \n",
      "587  37550  280.0  2032  \n",
      "588  37970  230.0  2032  \n",
      "mileage      8\n",
      "make         8\n",
      "model        8\n",
      "fuel         8\n",
      "gear         8\n",
      "offerType    8\n",
      "price        8\n",
      "hp           8\n",
      "year         8\n",
      "dtype: int64\n"
     ]
    }
   ],
   "source": [
    "min_year=df[\"year\"].min()\n",
    "max_year=df[\"year\"].max()\n",
    "unique_year=df[\"year\"].unique()\n",
    "print(min_year)\n",
    "print(max_year)\n",
    "print(unique_year)\n",
    "\n",
    "# Currently we have year 2024, 2032 is incorrect value, it shoud be delated.Also we can check deatils of vehicles assigned to inccorect year in another dataset and replace incorect values.\n",
    "\n",
    "year_2032=df[df[\"year\"]==2032]\n",
    "print(year_2032)\n",
    "print(year_2032.count())\n",
    "\n"
   ]
  },
  {
   "cell_type": "markdown",
   "metadata": {},
   "source": [
    "# After checking the errors in the columns, we need to decide how to fix the problems found. I suggested solving specific problems in comments in code blocks when I parsed the column by column dataset.\n",
    "# The decision on which action is best depends on the specific business question\n",
    "# In this particular case, based on the fact that this dataset contains 46405 records, I will simply delete outliers. My main motivation is their low number and the fact that this action will not have a major impact on the final results of the analysis.\n"
   ]
  },
  {
   "cell_type": "markdown",
   "metadata": {},
   "source": [
    "Data which will be delated:\n",
    "- 0 milage, used cars\n",
    "- NaN in Gear\n",
    "- Prices below 0\n",
    "- 1hp\n",
    "- year 2032"
   ]
  },
  {
   "cell_type": "code",
   "execution_count": 272,
   "metadata": {},
   "outputs": [
    {
     "name": "stdout",
     "output_type": "stream",
     "text": [
      "       mileage        make   model      fuel    gear offerType  price     hp  \\\n",
      "0       235000         BMW     316    Diesel  Manual      Used   6800  116.0   \n",
      "1        92800  Volkswagen    Golf  Gasoline  Manual      Used   6877  122.0   \n",
      "2       149300        SEAT    Exeo  Gasoline  Manual      Used   6900  160.0   \n",
      "3        96200     Renault  Megane  Gasoline  Manual      Used   6950  110.0   \n",
      "4       156000     Peugeot     308  Gasoline  Manual      Used   6950  156.0   \n",
      "...        ...         ...     ...       ...     ...       ...    ...    ...   \n",
      "46386       20     Peugeot     108  Gasoline  Manual      Used  10140   72.0   \n",
      "46387       20     Peugeot     108  Gasoline  Manual      Used  10140   72.0   \n",
      "46388       20     Peugeot     108  Gasoline  Manual      Used  10140   72.0   \n",
      "46389       20     Peugeot     108  Gasoline  Manual      Used  10140   72.0   \n",
      "46390       20     Peugeot     108  Gasoline  Manual      Used  10540   72.0   \n",
      "\n",
      "       year  \n",
      "0      2011  \n",
      "1      2011  \n",
      "2      2011  \n",
      "3      2011  \n",
      "4      2011  \n",
      "...     ...  \n",
      "46386  2021  \n",
      "46387  2021  \n",
      "46388  2021  \n",
      "46389  2021  \n",
      "46390  2021  \n",
      "\n",
      "[39935 rows x 9 columns]\n",
      "['Manual' 'Automatic' 'Semi-automatic']\n",
      "1100\n",
      "5.0\n",
      "2021\n"
     ]
    }
   ],
   "source": [
    "# Removing\n",
    "\n",
    "df_cleaned_1=df.drop(zero_mileage_used.index)\n",
    "df_cleaned_1.dropna(subset=[\"gear\"],inplace=True)\n",
    "df_cleaned_1.drop(negative_prices.index,inplace=True)\n",
    "df_cleaned_1.drop(df_cleaned_1[df_cleaned_1[\"hp\"]==1].index,inplace=True)\n",
    "df_cleaned_1.drop(year_2032.index,inplace=True)\n",
    "\n",
    "#check\n",
    "\n",
    "print(df_cleaned_1[df_cleaned_1[\"offerType\"]==\"Used\"])\n",
    "print(df_cleaned_1[\"gear\"].unique())\n",
    "print(df_cleaned_1[\"price\"].min())\n",
    "print(df_cleaned_1[\"hp\"].min())\n",
    "print(df_cleaned_1[\"year\"].max())\n",
    "\n",
    "df=df_cleaned_1\n",
    "\n"
   ]
  },
  {
   "cell_type": "markdown",
   "metadata": {},
   "source": [
    "# When we have prepared dataset we can answer busssiens questions"
   ]
  },
  {
   "cell_type": "markdown",
   "metadata": {},
   "source": [
    "# Nessesary data manipualtion "
   ]
  },
  {
   "cell_type": "code",
   "execution_count": 273,
   "metadata": {},
   "outputs": [
    {
     "data": {
      "text/plain": [
       "mileage      11996\n",
       "make         11996\n",
       "model        11979\n",
       "fuel         11996\n",
       "gear         11996\n",
       "offerType    11996\n",
       "price        11996\n",
       "hp           11996\n",
       "year         11996\n",
       "age          11996\n",
       "if_german    11996\n",
       "dtype: int64"
      ]
     },
     "execution_count": 273,
     "metadata": {},
     "output_type": "execute_result"
    }
   ],
   "source": [
    "# adding new columns to data set\n",
    "\n",
    "df[\"age\"]=2024-df[\"year\"]\n",
    "df['if_german'] = np.where(df['make'].isin([\"BMW\",\"Mercedes\",\"Volkswagen\",\"Audi\",\"Porshe\"]), 1, 0)\n",
    "df[df[\"if_german\"]==1].count()\n",
    "\n",
    "\n"
   ]
  },
  {
   "cell_type": "code",
   "execution_count": null,
   "metadata": {},
   "outputs": [],
   "source": [
    "#export of final data\n",
    "\n",
    "output_csv_2 = data/ \"dane_final.csv\"\n",
    "df.to_csv(output_csv_2)"
   ]
  },
  {
   "cell_type": "markdown",
   "metadata": {},
   "source": [
    "# Calcualtion for qestion 1"
   ]
  },
  {
   "cell_type": "code",
   "execution_count": 274,
   "metadata": {},
   "outputs": [
    {
     "data": {
      "text/plain": [
       "array([2011, 2012, 2013, 2014, 2015, 2016, 2017, 2018, 2019, 2020, 2021])"
      ]
     },
     "execution_count": 274,
     "metadata": {},
     "output_type": "execute_result"
    }
   ],
   "source": [
    "df[\"year\"].unique()"
   ]
  },
  {
   "cell_type": "code",
   "execution_count": 276,
   "metadata": {},
   "outputs": [
    {
     "data": {
      "text/plain": [
       "[13.0,\n",
       " 12.494035425954934,\n",
       " 11.98844068877551,\n",
       " 11.493145764741096,\n",
       " 10.993013351198737,\n",
       " 10.487867939538583,\n",
       " 9.987767479896416,\n",
       " 9.487380434458714,\n",
       " 8.987396404268276,\n",
       " 8.480684142918312,\n",
       " 7.986840111685894]"
      ]
     },
     "execution_count": 276,
     "metadata": {},
     "output_type": "execute_result"
    }
   ],
   "source": [
    "year = [2011, 2012, 2013, 2014, 2015, 2016, 2017, 2018, 2019, 2020,2021] \n",
    "mean_of_age = [] \n",
    "for i in year:     \n",
    "    df_new = df[df['year'] <= i]     #append do listy     \n",
    "    mean_of_age.append(df_new['age'].mean()) \n",
    "mean_of_age\n",
    "\n"
   ]
  },
  {
   "cell_type": "code",
   "execution_count": 295,
   "metadata": {},
   "outputs": [],
   "source": [
    "type(year)\n",
    "type(mean_of_age)\n",
    "\n",
    "df_age=pd.DataFrame({\"year\":year,\n",
    "                 \"mean\":mean_of_age})\n",
    "df_age\n",
    "output_xlsx_2 = data/ \"q1.xlsx\"\n",
    "df_age.to_excel(output_xlsx_2)\n"
   ]
  },
  {
   "cell_type": "code",
   "execution_count": 293,
   "metadata": {},
   "outputs": [
    {
     "data": {
      "text/plain": [
       "Text(0, 0.5, 'Mean age of the cars')"
      ]
     },
     "execution_count": 293,
     "metadata": {},
     "output_type": "execute_result"
    },
    {
     "data": {
      "image/png": "[encoded data removed]",
      "text/plain": [
       "<Figure size 640x480 with 1 Axes>"
      ]
     },
     "metadata": {},
     "output_type": "display_data"
    }
   ],
   "source": [
    "# Creating a chart\n",
    "# Main visualisation will be prepared in Power Bi and Excel, below code is just a test one\n",
    "\n",
    "sns.barplot(x='year',y='mean',hue='mean',legend=False,data=df_age,palette=\"magma\")\n",
    "plt.title('Vehical mean age through the years')\n",
    "plt.xlabel('Year')\n",
    "plt.ylabel('Mean age of the cars')\n"
   ]
  }
 ],
 "metadata": {
  "kernelspec": {
   "display_name": "Python 3",
   "language": "python",
   "name": "python3"
  },
  "language_info": {
   "codemirror_mode": {
    "name": "ipython",
    "version": 3
   },
   "file_extension": ".py",
   "mimetype": "text/x-python",
   "name": "python",
   "nbconvert_exporter": "python",
   "pygments_lexer": "ipython3",
   "version": "3.11.5"
  }
 },
 "nbformat": 4,
 "nbformat_minor": 2
}
